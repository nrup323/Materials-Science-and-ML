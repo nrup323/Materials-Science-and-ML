{
  "nbformat": 4,
  "nbformat_minor": 0,
  "metadata": {
    "kernelspec": {
      "display_name": "Python 3",
      "language": "python",
      "name": "python3"
    },
    "language_info": {
      "codemirror_mode": {
        "name": "ipython",
        "version": 3
      },
      "file_extension": ".py",
      "mimetype": "text/x-python",
      "name": "python",
      "nbconvert_exporter": "python",
      "pygments_lexer": "ipython3",
      "version": "3.6.9"
    },
    "colab": {
      "name": "Pred_Radius.ipynb",
      "provenance": [],
      "collapsed_sections": [
        "yGMAv_wCa0Sj",
        "8OiN5-jTb2Tg",
        "wjFf_3AccY-Z",
        "BF4M5V20f38r",
        "DwNQl_cVgNs3",
        "dUHN4l4sgMur",
        "mlmc5xRjcdUm"
      ],
      "toc_visible": true
    }
  },
  "cells": [
    {
      "cell_type": "code",
      "metadata": {
        "id": "bmb1qdZrvp3R"
      },
      "source": [
        "#import all the libraries\n",
        "\n",
        "import numpy as np\n",
        "import matplotlib.pyplot as plt\n",
        "import pandas as pd\n",
        "import seaborn as sns"
      ],
      "execution_count": null,
      "outputs": []
    },
    {
      "cell_type": "code",
      "metadata": {
        "id": "SD7lwPN3vp3b"
      },
      "source": [
        "#import data\n",
        "data_o = pd.read_csv('Fe-based BMG Dataset.csv')"
      ],
      "execution_count": null,
      "outputs": []
    },
    {
      "cell_type": "markdown",
      "metadata": {
        "id": "fyUo8KrPs8XN"
      },
      "source": [
        "#EDA\n"
      ]
    },
    {
      "cell_type": "code",
      "metadata": {
        "id": "ZEtKgFPKvp3d",
        "colab": {
          "base_uri": "https://localhost:8080/"
        },
        "outputId": "8470723a-4265-4d4b-e7ab-8af31e556b82"
      },
      "source": [
        "data_o.head()\n",
        "data_o.describe(include='all')\n",
        "data_o.info()"
      ],
      "execution_count": null,
      "outputs": [
        {
          "output_type": "stream",
          "text": [
            "<class 'pandas.core.frame.DataFrame'>\n",
            "RangeIndex: 481 entries, 0 to 480\n",
            "Data columns (total 29 columns):\n",
            " #   Column  Non-Null Count  Dtype  \n",
            "---  ------  --------------  -----  \n",
            " 0   ID      480 non-null    float64\n",
            " 1   Ref.    480 non-null    object \n",
            " 2   Alloy   480 non-null    object \n",
            " 3   Dmax    480 non-null    float64\n",
            " 4   Fe      480 non-null    float64\n",
            " 5   Co      480 non-null    float64\n",
            " 6   B       480 non-null    float64\n",
            " 7   Si      480 non-null    float64\n",
            " 8   Nb      480 non-null    float64\n",
            " 9   Ni      480 non-null    float64\n",
            " 10  Y       480 non-null    float64\n",
            " 11  Zr      480 non-null    float64\n",
            " 12  Cr      480 non-null    float64\n",
            " 13  Mo      480 non-null    float64\n",
            " 14  P       480 non-null    float64\n",
            " 15  C       480 non-null    float64\n",
            " 16  Hf      480 non-null    float64\n",
            " 17  Al      480 non-null    float64\n",
            " 18  Dy      480 non-null    float64\n",
            " 19  Er      480 non-null    float64\n",
            " 20  Mn      480 non-null    float64\n",
            " 21  Ti      480 non-null    float64\n",
            " 22  V       480 non-null    float64\n",
            " 23  Cu      480 non-null    float64\n",
            " 24  Ga      480 non-null    float64\n",
            " 25  Tm      480 non-null    float64\n",
            " 26  Sn      479 non-null    float64\n",
            " 27  W       480 non-null    float64\n",
            " 28  Ta      479 non-null    float64\n",
            "dtypes: float64(27), object(2)\n",
            "memory usage: 109.1+ KB\n"
          ],
          "name": "stdout"
        }
      ]
    },
    {
      "cell_type": "code",
      "metadata": {
        "id": "_YvWZhpGvp3h"
      },
      "source": [
        "data = data_o.dropna()"
      ],
      "execution_count": null,
      "outputs": []
    },
    {
      "cell_type": "markdown",
      "metadata": {
        "id": "F7rHfdH-pcWq"
      },
      "source": [
        "Now there are no null values in the data_1"
      ]
    },
    {
      "cell_type": "code",
      "metadata": {
        "id": "l2kQ8Uw-vp3j",
        "colab": {
          "base_uri": "https://localhost:8080/"
        },
        "outputId": "3f0d5f35-9c5a-4bf2-9358-728570ec886b"
      },
      "source": [
        "data['Dmax'].describe()"
      ],
      "execution_count": null,
      "outputs": [
        {
          "output_type": "execute_result",
          "data": {
            "text/plain": [
              "count    479.000000\n",
              "mean       3.043952\n",
              "std        2.293112\n",
              "min        0.055000\n",
              "25%        1.550000\n",
              "50%        2.500000\n",
              "75%        4.000000\n",
              "max       18.000000\n",
              "Name: Dmax, dtype: float64"
            ]
          },
          "metadata": {
            "tags": []
          },
          "execution_count": 5
        }
      ]
    },
    {
      "cell_type": "code",
      "metadata": {
        "id": "srMGZZi-vp3l",
        "colab": {
          "base_uri": "https://localhost:8080/",
          "height": 297
        },
        "outputId": "439b4804-e479-474e-9999-6c3691f38397"
      },
      "source": [
        "figure, axis = plt.subplots(2,2)\n",
        "axis[0,0].scatter(data['Nb'].values , data['Dmax'].values )\n",
        "axis[0,0].set_title('Dmax VS Nb')\n",
        "axis[0,1].scatter(data['Ni'].values , data['Dmax'].values )\n",
        "axis[0,1].set_title('Dmax VS Ni')\n",
        "axis[1,0].scatter(data['Y'].values , data['Dmax'].values )\n",
        "axis[1,0].set_title('Dmax VS Y')\n",
        "axis[1,1].scatter(data['Zr'].values , data['Dmax'].values )\n",
        "axis[1,1].set_title('Dmax VS Zr')\n",
        "plt.tight_layout()\n",
        "\n"
      ],
      "execution_count": null,
      "outputs": [
        {
          "output_type": "display_data",
          "data": {
            "image/png": "[encoded data removed]",
            "text/plain": [
              "<Figure size 432x288 with 4 Axes>"
            ]
          },
          "metadata": {
            "tags": [],
            "needs_background": "light"
          }
        }
      ]
    },
    {
      "cell_type": "code",
      "metadata": {
        "id": "EkftZj05vp3n",
        "colab": {
          "base_uri": "https://localhost:8080/",
          "height": 297
        },
        "outputId": "253320ab-8134-4aef-b2e6-55b006a79971"
      },
      "source": [
        "figure, axis = plt.subplots(2,2)\n",
        "axis[0,0].scatter(data['Cr'].values , data['Dmax'].values )\n",
        "axis[0,0].set_title('Dmax VS Cr')\n",
        "axis[0,1].scatter(data['Mo'].values , data['Dmax'].values )\n",
        "axis[0,1].set_title('Dmax VS Mo')\n",
        "axis[1,0].scatter(data['P'].values , data['Dmax'].values )\n",
        "axis[1,0].set_title('Dmax VS P')\n",
        "axis[1,1].scatter(data['C'].values , data['Dmax'].values )\n",
        "axis[1,1].set_title('Dmax VS C')\n",
        "plt.tight_layout()\n",
        "\n"
      ],
      "execution_count": null,
      "outputs": [
        {
          "output_type": "display_data",
          "data": {
            "image/png": "[encoded data removed]",
            "text/plain": [
              "<Figure size 432x288 with 4 Axes>"
            ]
          },
          "metadata": {
            "tags": [],
            "needs_background": "light"
          }
        }
      ]
    },
    {
      "cell_type": "code",
      "metadata": {
        "id": "E3jXJp6xvp3o",
        "colab": {
          "base_uri": "https://localhost:8080/",
          "height": 297
        },
        "outputId": "224da4b5-54ce-489d-e4ce-33c8c27bd580"
      },
      "source": [
        "figure, axis = plt.subplots(2,2)\n",
        "axis[0,0].scatter(data['Hf'].values , data['Dmax'].values )\n",
        "axis[0,0].set_title('Dmax VS Hf')\n",
        "axis[0,1].scatter(data['Al'].values , data['Dmax'].values )\n",
        "axis[0,1].set_title('Dmax VS Al')\n",
        "axis[1,0].scatter(data['P'].values , data['Dmax'].values )\n",
        "axis[1,0].set_title('Dmax VS Dy')\n",
        "axis[1,1].scatter(data['C'].values , data['Dmax'].values )\n",
        "axis[1,1].set_title('Dmax VS Er')\n",
        "plt.tight_layout()\n",
        "\n"
      ],
      "execution_count": null,
      "outputs": [
        {
          "output_type": "display_data",
          "data": {
            "image/png": "[encoded data removed]",
            "text/plain": [
              "<Figure size 432x288 with 4 Axes>"
            ]
          },
          "metadata": {
            "tags": [],
            "needs_background": "light"
          }
        }
      ]
    },
    {
      "cell_type": "code",
      "metadata": {
        "id": "2efWP_XAvp3q",
        "colab": {
          "base_uri": "https://localhost:8080/",
          "height": 297
        },
        "outputId": "9521d2b4-8444-4c3d-a0bb-d309854360d7"
      },
      "source": [
        "figure, axis = plt.subplots(2,2)\n",
        "axis[0,0].scatter(data['Mn'].values , data['Dmax'].values )\n",
        "axis[0,0].set_title('Dmax VS Mn')\n",
        "axis[0,1].scatter(data['Ti'].values , data['Dmax'].values )\n",
        "axis[0,1].set_title('Dmax VS Ti')\n",
        "axis[1,0].scatter(data['V'].values , data['Dmax'].values )\n",
        "axis[1,0].set_title('Dmax VS V')\n",
        "axis[1,1].scatter(data['Cu'].values , data['Dmax'].values )\n",
        "axis[1,1].set_title('Dmax VS Cu')\n",
        "plt.tight_layout()\n",
        "\n"
      ],
      "execution_count": null,
      "outputs": [
        {
          "output_type": "display_data",
          "data": {
            "image/png": "[encoded data removed]",
            "text/plain": [
              "<Figure size 432x288 with 4 Axes>"
            ]
          },
          "metadata": {
            "tags": [],
            "needs_background": "light"
          }
        }
      ]
    },
    {
      "cell_type": "code",
      "metadata": {
        "id": "OimxWI1Rvp3s",
        "colab": {
          "base_uri": "https://localhost:8080/",
          "height": 297
        },
        "outputId": "2d7d7e90-ed1c-4b70-97c0-e3819c921ffd"
      },
      "source": [
        "figure, axis = plt.subplots(3,2)\n",
        "axis[0,0].scatter(data['Ga'].values , data['Dmax'].values )\n",
        "axis[0,0].set_title('Dmax VS Ga')\n",
        "axis[0,1].scatter(data['Tm'].values , data['Dmax'].values )\n",
        "axis[0,1].set_title('Dmax VS Tm')\n",
        "axis[1,0].scatter(data['Sn'].values , data['Dmax'].values )\n",
        "axis[1,0].set_title('Dmax VS Sn')\n",
        "axis[1,1].scatter(data['W'].values , data['Dmax'].values )\n",
        "axis[1,1].set_title('Dmax VS W')\n",
        "axis[2,0].scatter(data['Ta'].values , data['Dmax'].values )\n",
        "axis[2,0].set_title('Dmax VS Ta')\n",
        "plt.tight_layout()\n",
        "\n"
      ],
      "execution_count": null,
      "outputs": [
        {
          "output_type": "display_data",
          "data": {
            "image/png": "[encoded data removed]",
            "text/plain": [
              "<Figure size 432x288 with 6 Axes>"
            ]
          },
          "metadata": {
            "tags": [],
            "needs_background": "light"
          }
        }
      ]
    },
    {
      "cell_type": "code",
      "metadata": {
        "id": "63EDv977vp3u",
        "colab": {
          "base_uri": "https://localhost:8080/"
        },
        "outputId": "cf9a8fe9-e80e-40dd-95c7-2c0bdc60a1f7"
      },
      "source": [
        "(data==0).sum()"
      ],
      "execution_count": null,
      "outputs": [
        {
          "output_type": "execute_result",
          "data": {
            "text/plain": [
              "ID         0\n",
              "Ref.       0\n",
              "Alloy      0\n",
              "Dmax       0\n",
              "Fe         0\n",
              "Co       340\n",
              "B         23\n",
              "Si       316\n",
              "Nb       337\n",
              "Ni       411\n",
              "Y        389\n",
              "Zr       448\n",
              "Cr       353\n",
              "Mo       274\n",
              "P        293\n",
              "C        215\n",
              "Hf       467\n",
              "Al       455\n",
              "Dy       446\n",
              "Er       429\n",
              "Mn       457\n",
              "Ti       459\n",
              "V        477\n",
              "Cu       446\n",
              "Ga       462\n",
              "Tm       468\n",
              "Sn       474\n",
              "W        464\n",
              "Ta       476\n",
              "dtype: int64"
            ]
          },
          "metadata": {
            "tags": []
          },
          "execution_count": 11
        }
      ]
    },
    {
      "cell_type": "markdown",
      "metadata": {
        "id": "NkuizzFPtFn4"
      },
      "source": [
        "# Data Allocation"
      ]
    },
    {
      "cell_type": "code",
      "metadata": {
        "id": "aJLILjfLiJdL",
        "colab": {
          "base_uri": "https://localhost:8080/"
        },
        "outputId": "6e5a4bdc-bccd-4076-eb99-dc376c2c942b"
      },
      "source": [
        "#data preprocessing is not needed ig \n",
        "\n",
        "X = data.iloc[:, 4:].values\n",
        "y = data.iloc[:,3].values\n",
        "y = y.reshape(len(y),1)\n",
        "print(X.shape)"
      ],
      "execution_count": null,
      "outputs": [
        {
          "output_type": "stream",
          "text": [
            "(479, 25)\n"
          ],
          "name": "stdout"
        }
      ]
    },
    {
      "cell_type": "code",
      "metadata": {
        "id": "po-3H9CviPyO"
      },
      "source": [
        "from sklearn.model_selection import train_test_split\n",
        "X_train, X_test, y_train, y_test = train_test_split(X,y, test_size = 0.2, random_state = 1)"
      ],
      "execution_count": null,
      "outputs": []
    },
    {
      "cell_type": "markdown",
      "metadata": {
        "id": "lVKKymjgaWri"
      },
      "source": [
        "\n",
        "# Deep Learning\n"
      ]
    },
    {
      "cell_type": "markdown",
      "metadata": {
        "id": "xf2U7EX3bf3k"
      },
      "source": [
        "### Importing Deep Learnign Libraries"
      ]
    },
    {
      "cell_type": "code",
      "metadata": {
        "colab": {
          "base_uri": "https://localhost:8080/",
          "height": 35
        },
        "id": "9QPeDl6BbmKx",
        "outputId": "540a1b13-3202-46d8-f180-c69ef9fae977"
      },
      "source": [
        "import tensorflow as tf\n",
        "tf.__version__"
      ],
      "execution_count": null,
      "outputs": [
        {
          "output_type": "execute_result",
          "data": {
            "application/vnd.google.colaboratory.intrinsic+json": {
              "type": "string"
            },
            "text/plain": [
              "'2.5.0'"
            ]
          },
          "metadata": {
            "tags": []
          },
          "execution_count": 14
        }
      ]
    },
    {
      "cell_type": "markdown",
      "metadata": {
        "id": "BXXJ-Pvnahqz"
      },
      "source": [
        "### Preprocessing of the data"
      ]
    },
    {
      "cell_type": "code",
      "metadata": {
        "id": "r_SwN1TxqqWZ"
      },
      "source": [
        "from sklearn.preprocessing import StandardScaler\n",
        "\n",
        "sc_de = StandardScaler()\n",
        "X_train = sc_de.fit_transform(X_train)\n",
        "X_test = sc_de.transform(X_test)"
      ],
      "execution_count": null,
      "outputs": []
    },
    {
      "cell_type": "markdown",
      "metadata": {
        "id": "Rhnb9HjKas-7"
      },
      "source": [
        "### Creating a Network\n"
      ]
    },
    {
      "cell_type": "markdown",
      "metadata": {
        "id": "yGMAv_wCa0Sj"
      },
      "source": [
        "#### Generating a skeleton"
      ]
    },
    {
      "cell_type": "code",
      "metadata": {
        "id": "dISIO0hRqqTw"
      },
      "source": [
        "ann = tf.keras.models.Sequential() #created a object"
      ],
      "execution_count": null,
      "outputs": []
    },
    {
      "cell_type": "markdown",
      "metadata": {
        "id": "8OiN5-jTb2Tg"
      },
      "source": [
        "#### Creating first hidden layer"
      ]
    },
    {
      "cell_type": "code",
      "metadata": {
        "id": "qEktRNxVqqPb"
      },
      "source": [
        "f_layer = tf.keras.layers.Dense(units=16, activation='relu')\n",
        "ann.add(f_layer)"
      ],
      "execution_count": null,
      "outputs": []
    },
    {
      "cell_type": "markdown",
      "metadata": {
        "id": "wjFf_3AccY-Z"
      },
      "source": [
        "#### Creating Second hidden layer"
      ]
    },
    {
      "cell_type": "code",
      "metadata": {
        "id": "vQOjID_AqqMJ"
      },
      "source": [
        "s_layer = tf.keras.layers.Dense(units=16, activation='relu')\n",
        "ann.add(s_layer) #% accuracy"
      ],
      "execution_count": null,
      "outputs": []
    },
    {
      "cell_type": "markdown",
      "metadata": {
        "id": "BF4M5V20f38r"
      },
      "source": [
        "#### Creating a Third Layer"
      ]
    },
    {
      "cell_type": "code",
      "metadata": {
        "id": "EMPK-OOkf9FG"
      },
      "source": [
        "t_layer = tf.keras.layers.Dense(units=16, activation='relu')\n",
        "ann.add(t_layer) #67 %"
      ],
      "execution_count": null,
      "outputs": []
    },
    {
      "cell_type": "markdown",
      "metadata": {
        "id": "DwNQl_cVgNs3"
      },
      "source": [
        "#### Creating a Fourth Layer"
      ]
    },
    {
      "cell_type": "code",
      "metadata": {
        "id": "Z610CsOngWKI"
      },
      "source": [
        "fo_layer = tf.keras.layers.Dense(units = 16, activation = 'relu')\n",
        "ann.add(fo_layer) #73%# "
      ],
      "execution_count": null,
      "outputs": []
    },
    {
      "cell_type": "markdown",
      "metadata": {
        "id": "dUHN4l4sgMur"
      },
      "source": [
        "#### Creating a Fifth Layer"
      ]
    },
    {
      "cell_type": "code",
      "metadata": {
        "id": "85mRSHTqgWhe"
      },
      "source": [
        "# fi_layer = tf.keras.layers.Dense(units = 16, activation='relu')\n",
        "# ann.add(fi_layer) # 70%"
      ],
      "execution_count": null,
      "outputs": []
    },
    {
      "cell_type": "markdown",
      "metadata": {
        "id": "mlmc5xRjcdUm"
      },
      "source": [
        "#### Creating a output layer"
      ]
    },
    {
      "cell_type": "code",
      "metadata": {
        "id": "hrtKisW-qqGF"
      },
      "source": [
        "o_layer = tf.keras.layers.Dense(units=1)# no activation function as this is a regression\n",
        "ann.add(o_layer)"
      ],
      "execution_count": null,
      "outputs": []
    },
    {
      "cell_type": "markdown",
      "metadata": {
        "id": "MhPaevF2ctxb"
      },
      "source": [
        "### Compiling the NN"
      ]
    },
    {
      "cell_type": "code",
      "metadata": {
        "id": "1TNRz9fOcyjV"
      },
      "source": [
        "ann.compile(optimizer='adam', loss='mean_squared_error')"
      ],
      "execution_count": null,
      "outputs": []
    },
    {
      "cell_type": "markdown",
      "metadata": {
        "id": "L-JTwpC4dB_C"
      },
      "source": [
        "### Training the Neural Network on training data, Behold !"
      ]
    },
    {
      "cell_type": "code",
      "metadata": {
        "colab": {
          "base_uri": "https://localhost:8080/"
        },
        "id": "tE9LkEYfdJ2E",
        "outputId": "63c04c0d-8d6e-4419-f47e-1caff1c28786"
      },
      "source": [
        "ann.fit(X_train, y_train, batch_size = 32, epochs = 100)"
      ],
      "execution_count": null,
      "outputs": [
        {
          "output_type": "stream",
          "text": [
            "Epoch 1/100\n",
            "12/12 [==============================] - 1s 2ms/step - loss: 14.5706\n",
            "Epoch 2/100\n",
            "12/12 [==============================] - 0s 2ms/step - loss: 12.1912\n",
            "Epoch 3/100\n",
            "12/12 [==============================] - 0s 2ms/step - loss: 9.9916\n",
            "Epoch 4/100\n",
            "12/12 [==============================] - 0s 2ms/step - loss: 7.8903\n",
            "Epoch 5/100\n",
            "12/12 [==============================] - 0s 2ms/step - loss: 6.2687\n",
            "Epoch 6/100\n",
            "12/12 [==============================] - 0s 2ms/step - loss: 5.3524\n",
            "Epoch 7/100\n",
            "12/12 [==============================] - 0s 2ms/step - loss: 4.9550\n",
            "Epoch 8/100\n",
            "12/12 [==============================] - 0s 2ms/step - loss: 4.5135\n",
            "Epoch 9/100\n",
            "12/12 [==============================] - 0s 2ms/step - loss: 4.2941\n",
            "Epoch 10/100\n",
            "12/12 [==============================] - 0s 3ms/step - loss: 4.1271\n",
            "Epoch 11/100\n",
            "12/12 [==============================] - 0s 2ms/step - loss: 3.9867\n",
            "Epoch 12/100\n",
            "12/12 [==============================] - 0s 3ms/step - loss: 3.8427\n",
            "Epoch 13/100\n",
            "12/12 [==============================] - 0s 2ms/step - loss: 3.7379\n",
            "Epoch 14/100\n",
            "12/12 [==============================] - 0s 2ms/step - loss: 3.6201\n",
            "Epoch 15/100\n",
            "12/12 [==============================] - 0s 2ms/step - loss: 3.5273\n",
            "Epoch 16/100\n",
            "12/12 [==============================] - 0s 3ms/step - loss: 3.4078\n",
            "Epoch 17/100\n",
            "12/12 [==============================] - 0s 3ms/step - loss: 3.3146\n",
            "Epoch 18/100\n",
            "12/12 [==============================] - 0s 2ms/step - loss: 3.2256\n",
            "Epoch 19/100\n",
            "12/12 [==============================] - 0s 2ms/step - loss: 3.1256\n",
            "Epoch 20/100\n",
            "12/12 [==============================] - 0s 3ms/step - loss: 3.0534\n",
            "Epoch 21/100\n",
            "12/12 [==============================] - 0s 2ms/step - loss: 2.9619\n",
            "Epoch 22/100\n",
            "12/12 [==============================] - 0s 2ms/step - loss: 2.8547\n",
            "Epoch 23/100\n",
            "12/12 [==============================] - 0s 2ms/step - loss: 2.7946\n",
            "Epoch 24/100\n",
            "12/12 [==============================] - 0s 2ms/step - loss: 2.7320\n",
            "Epoch 25/100\n",
            "12/12 [==============================] - 0s 2ms/step - loss: 2.6549\n",
            "Epoch 26/100\n",
            "12/12 [==============================] - 0s 2ms/step - loss: 2.6220\n",
            "Epoch 27/100\n",
            "12/12 [==============================] - 0s 3ms/step - loss: 2.5053\n",
            "Epoch 28/100\n",
            "12/12 [==============================] - 0s 2ms/step - loss: 2.4508\n",
            "Epoch 29/100\n",
            "12/12 [==============================] - 0s 2ms/step - loss: 2.4051\n",
            "Epoch 30/100\n",
            "12/12 [==============================] - 0s 2ms/step - loss: 2.3303\n",
            "Epoch 31/100\n",
            "12/12 [==============================] - 0s 2ms/step - loss: 2.3001\n",
            "Epoch 32/100\n",
            "12/12 [==============================] - 0s 2ms/step - loss: 2.2367\n",
            "Epoch 33/100\n",
            "12/12 [==============================] - 0s 2ms/step - loss: 2.1887\n",
            "Epoch 34/100\n",
            "12/12 [==============================] - 0s 2ms/step - loss: 2.1658\n",
            "Epoch 35/100\n",
            "12/12 [==============================] - 0s 2ms/step - loss: 2.1059\n",
            "Epoch 36/100\n",
            "12/12 [==============================] - 0s 2ms/step - loss: 2.0633\n",
            "Epoch 37/100\n",
            "12/12 [==============================] - 0s 2ms/step - loss: 2.0362\n",
            "Epoch 38/100\n",
            "12/12 [==============================] - 0s 2ms/step - loss: 1.9975\n",
            "Epoch 39/100\n",
            "12/12 [==============================] - 0s 2ms/step - loss: 1.9477\n",
            "Epoch 40/100\n",
            "12/12 [==============================] - 0s 2ms/step - loss: 1.9212\n",
            "Epoch 41/100\n",
            "12/12 [==============================] - 0s 2ms/step - loss: 1.8753\n",
            "Epoch 42/100\n",
            "12/12 [==============================] - 0s 2ms/step - loss: 1.8686\n",
            "Epoch 43/100\n",
            "12/12 [==============================] - 0s 2ms/step - loss: 1.8834\n",
            "Epoch 44/100\n",
            "12/12 [==============================] - 0s 3ms/step - loss: 1.7940\n",
            "Epoch 45/100\n",
            "12/12 [==============================] - 0s 2ms/step - loss: 1.8359\n",
            "Epoch 46/100\n",
            "12/12 [==============================] - 0s 3ms/step - loss: 1.8507\n",
            "Epoch 47/100\n",
            "12/12 [==============================] - 0s 2ms/step - loss: 1.7647\n",
            "Epoch 48/100\n",
            "12/12 [==============================] - 0s 2ms/step - loss: 1.7284\n",
            "Epoch 49/100\n",
            "12/12 [==============================] - 0s 2ms/step - loss: 1.6748\n",
            "Epoch 50/100\n",
            "12/12 [==============================] - 0s 3ms/step - loss: 1.6740\n",
            "Epoch 51/100\n",
            "12/12 [==============================] - 0s 2ms/step - loss: 1.6428\n",
            "Epoch 52/100\n",
            "12/12 [==============================] - 0s 2ms/step - loss: 1.6275\n",
            "Epoch 53/100\n",
            "12/12 [==============================] - 0s 2ms/step - loss: 1.6012\n",
            "Epoch 54/100\n",
            "12/12 [==============================] - 0s 2ms/step - loss: 1.6001\n",
            "Epoch 55/100\n",
            "12/12 [==============================] - 0s 2ms/step - loss: 1.5587\n",
            "Epoch 56/100\n",
            "12/12 [==============================] - 0s 2ms/step - loss: 1.5214\n",
            "Epoch 57/100\n",
            "12/12 [==============================] - 0s 2ms/step - loss: 1.5286\n",
            "Epoch 58/100\n",
            "12/12 [==============================] - 0s 2ms/step - loss: 1.5018\n",
            "Epoch 59/100\n",
            "12/12 [==============================] - 0s 2ms/step - loss: 1.4899\n",
            "Epoch 60/100\n",
            "12/12 [==============================] - 0s 2ms/step - loss: 1.4612\n",
            "Epoch 61/100\n",
            "12/12 [==============================] - 0s 2ms/step - loss: 1.4507\n",
            "Epoch 62/100\n",
            "12/12 [==============================] - 0s 2ms/step - loss: 1.4230\n",
            "Epoch 63/100\n",
            "12/12 [==============================] - 0s 2ms/step - loss: 1.4227\n",
            "Epoch 64/100\n",
            "12/12 [==============================] - 0s 2ms/step - loss: 1.3924\n",
            "Epoch 65/100\n",
            "12/12 [==============================] - 0s 3ms/step - loss: 1.3869\n",
            "Epoch 66/100\n",
            "12/12 [==============================] - 0s 3ms/step - loss: 1.3632\n",
            "Epoch 67/100\n",
            "12/12 [==============================] - 0s 2ms/step - loss: 1.3931\n",
            "Epoch 68/100\n",
            "12/12 [==============================] - 0s 2ms/step - loss: 1.3593\n",
            "Epoch 69/100\n",
            "12/12 [==============================] - 0s 2ms/step - loss: 1.3893\n",
            "Epoch 70/100\n",
            "12/12 [==============================] - 0s 2ms/step - loss: 1.3589\n",
            "Epoch 71/100\n",
            "12/12 [==============================] - 0s 2ms/step - loss: 1.3255\n",
            "Epoch 72/100\n",
            "12/12 [==============================] - 0s 2ms/step - loss: 1.3044\n",
            "Epoch 73/100\n",
            "12/12 [==============================] - 0s 2ms/step - loss: 1.3119\n",
            "Epoch 74/100\n",
            "12/12 [==============================] - 0s 2ms/step - loss: 1.2838\n",
            "Epoch 75/100\n",
            "12/12 [==============================] - 0s 2ms/step - loss: 1.2897\n",
            "Epoch 76/100\n",
            "12/12 [==============================] - 0s 2ms/step - loss: 1.2689\n",
            "Epoch 77/100\n",
            "12/12 [==============================] - 0s 2ms/step - loss: 1.2684\n",
            "Epoch 78/100\n",
            "12/12 [==============================] - 0s 2ms/step - loss: 1.2435\n",
            "Epoch 79/100\n",
            "12/12 [==============================] - 0s 2ms/step - loss: 1.2422\n",
            "Epoch 80/100\n",
            "12/12 [==============================] - 0s 2ms/step - loss: 1.2207\n",
            "Epoch 81/100\n",
            "12/12 [==============================] - 0s 2ms/step - loss: 1.2288\n",
            "Epoch 82/100\n",
            "12/12 [==============================] - 0s 2ms/step - loss: 1.2415\n",
            "Epoch 83/100\n",
            "12/12 [==============================] - 0s 2ms/step - loss: 1.2448\n",
            "Epoch 84/100\n",
            "12/12 [==============================] - 0s 2ms/step - loss: 1.1951\n",
            "Epoch 85/100\n",
            "12/12 [==============================] - 0s 2ms/step - loss: 1.2226\n",
            "Epoch 86/100\n",
            "12/12 [==============================] - 0s 3ms/step - loss: 1.1685\n",
            "Epoch 87/100\n",
            "12/12 [==============================] - 0s 2ms/step - loss: 1.1829\n",
            "Epoch 88/100\n",
            "12/12 [==============================] - 0s 2ms/step - loss: 1.1627\n",
            "Epoch 89/100\n",
            "12/12 [==============================] - 0s 2ms/step - loss: 1.1448\n",
            "Epoch 90/100\n",
            "12/12 [==============================] - 0s 2ms/step - loss: 1.1467\n",
            "Epoch 91/100\n",
            "12/12 [==============================] - 0s 2ms/step - loss: 1.1510\n",
            "Epoch 92/100\n",
            "12/12 [==============================] - 0s 2ms/step - loss: 1.1483\n",
            "Epoch 93/100\n",
            "12/12 [==============================] - 0s 2ms/step - loss: 1.1276\n",
            "Epoch 94/100\n",
            "12/12 [==============================] - 0s 2ms/step - loss: 1.1030\n",
            "Epoch 95/100\n",
            "12/12 [==============================] - 0s 2ms/step - loss: 1.1114\n",
            "Epoch 96/100\n",
            "12/12 [==============================] - 0s 2ms/step - loss: 1.0914\n",
            "Epoch 97/100\n",
            "12/12 [==============================] - 0s 2ms/step - loss: 1.1120\n",
            "Epoch 98/100\n",
            "12/12 [==============================] - 0s 2ms/step - loss: 1.0857\n",
            "Epoch 99/100\n",
            "12/12 [==============================] - 0s 2ms/step - loss: 1.0864\n",
            "Epoch 100/100\n",
            "12/12 [==============================] - 0s 2ms/step - loss: 1.0500\n"
          ],
          "name": "stdout"
        },
        {
          "output_type": "execute_result",
          "data": {
            "text/plain": [
              "<tensorflow.python.keras.callbacks.History at 0x7f3cbcadd610>"
            ]
          },
          "metadata": {
            "tags": []
          },
          "execution_count": 24
        }
      ]
    },
    {
      "cell_type": "markdown",
      "metadata": {
        "id": "aJsdiWJgdayA"
      },
      "source": [
        "### Predicting on Test Data"
      ]
    },
    {
      "cell_type": "code",
      "metadata": {
        "colab": {
          "base_uri": "https://localhost:8080/"
        },
        "id": "uVyWZfKpcy2d",
        "outputId": "81ab065f-b2f0-449e-b0a4-aea399699a7f"
      },
      "source": [
        "y_pred = ann.predict(X_test)\n",
        "print(y_pred.shape)\n",
        "y_test = np.reshape(y_test, (len(y_test),1 ))\n",
        "final = np.concatenate((y_test, y_pred), 1)"
      ],
      "execution_count": null,
      "outputs": [
        {
          "output_type": "stream",
          "text": [
            "(96, 1)\n"
          ],
          "name": "stdout"
        }
      ]
    },
    {
      "cell_type": "markdown",
      "metadata": {
        "id": "ETvfDeaxecnx"
      },
      "source": [
        "###### Accuracy"
      ]
    },
    {
      "cell_type": "code",
      "metadata": {
        "colab": {
          "base_uri": "https://localhost:8080/"
        },
        "id": "Bum2wnh6emXk",
        "outputId": "9fcbb4e5-8615-4c35-d901-edc3eb46ad4a"
      },
      "source": [
        "from sklearn.metrics import r2_score\n",
        "\n",
        "accuracy = r2_score(y_test, y_pred)\n",
        "print(accuracy)"
      ],
      "execution_count": null,
      "outputs": [
        {
          "output_type": "stream",
          "text": [
            "0.7699142996395838\n"
          ],
          "name": "stdout"
        }
      ]
    }
  ]
}